{
  "cells": [
    {
      "cell_type": "code",
      "execution_count": 2,
      "metadata": {
        "colab": {
          "base_uri": "https://localhost:8080/",
          "height": 72
        },
        "colab_type": "code",
        "id": "Jlw1X80VhjhU",
        "outputId": "600ffaca-3095-4898-cad5-cc44d04bfb8b"
      },
      "outputs": [
        {
          "name": "stdout",
          "output_type": "stream",
          "text": [
            "2.0.0-beta1\n",
            "2.2.4\n"
          ]
        },
        {
          "name": "stderr",
          "output_type": "stream",
          "text": [
            "Using TensorFlow backend.\n"
          ]
        }
      ],
      "source": [
        "import tensorflow as tf\n",
        "import keras\n",
        "\n",
        "print(tf.__version__)\n",
        "print(keras.__version__)"
      ]
    },
    {
      "cell_type": "code",
      "execution_count": null,
      "metadata": {
        "colab": {},
        "colab_type": "code",
        "id": "BEXJZVlYiLlh"
      },
      "outputs": [],
      "source": [
        "#Loading the dataset and preprocessing\n",
        "\n",
        "data  = tf.keras.datasets.mnist\n",
        "(x_train,y_train),(x_test,y_test) = data.load_data()\n",
        "x_train = x_train / 255.\n",
        "x_test = x_test / 255."
      ]
    },
    {
      "cell_type": "code",
      "execution_count": null,
      "metadata": {
        "colab": {},
        "colab_type": "code",
        "id": "_m6zWSlEEfsm"
      },
      "outputs": [],
      "source": [
        "#Developing the model\n",
        "\n",
        "model = tf.keras.models.Sequential([\n",
        "    \n",
        "    tf.keras.layers.Flatten(input_shape = (28,28)),\n",
        "    tf.keras.layers.Dense(128,activation = 'relu'),\n",
        "    tf.keras.layers.Dropout(0.2),\n",
        "    tf.keras.layers.Dense(10,activation = 'softmax')\n",
        "])\n",
        "\n",
        "model.compile(optimizer = 'adam',loss = 'sparse_categorical_crossentropy',metrics = ['accuracy'])"
      ]
    },
    {
      "cell_type": "code",
      "execution_count": 7,
      "metadata": {
        "colab": {
          "base_uri": "https://localhost:8080/",
          "height": 328
        },
        "colab_type": "code",
        "id": "y2D5G0I0N6de",
        "outputId": "1b48acb9-bea9-4aae-d6a9-455dbf59a8b5"
      },
      "outputs": [
        {
          "name": "stderr",
          "output_type": "stream",
          "text": [
            "WARNING: Logging before flag parsing goes to stderr.\n",
            "W0710 14:23:53.664348 140658035574656 deprecation.py:323] From /usr/local/lib/python3.6/dist-packages/tensorflow/python/ops/math_grad.py:1250: add_dispatch_support.<locals>.wrapper (from tensorflow.python.ops.array_ops) is deprecated and will be removed in a future version.\n",
            "Instructions for updating:\n",
            "Use tf.where in 2.0, which has the same broadcast rule as np.where\n"
          ]
        },
        {
          "name": "stdout",
          "output_type": "stream",
          "text": [
            "Train on 60000 samples, validate on 10000 samples\n",
            "Epoch 1/5\n",
            "60000/60000 [==============================] - 7s 119us/sample - loss: 0.2981 - accuracy: 0.9138 - val_loss: 0.1389 - val_accuracy: 0.9589\n",
            "Epoch 2/5\n",
            "60000/60000 [==============================] - 7s 121us/sample - loss: 0.1456 - accuracy: 0.9556 - val_loss: 0.1018 - val_accuracy: 0.9678\n",
            "Epoch 3/5\n",
            "60000/60000 [==============================] - 8s 125us/sample - loss: 0.1094 - accuracy: 0.9677 - val_loss: 0.0937 - val_accuracy: 0.9708\n",
            "Epoch 4/5\n",
            "60000/60000 [==============================] - 8s 126us/sample - loss: 0.0911 - accuracy: 0.9719 - val_loss: 0.0774 - val_accuracy: 0.9755\n",
            "Epoch 5/5\n",
            "60000/60000 [==============================] - 8s 125us/sample - loss: 0.0765 - accuracy: 0.9757 - val_loss: 0.0724 - val_accuracy: 0.9770\n"
          ]
        },
        {
          "data": {
            "text/plain": [
              "<tensorflow.python.keras.callbacks.History at 0x7fed479dc4e0>"
            ]
          },
          "execution_count": 7,
          "metadata": {
            "tags": []
          },
          "output_type": "execute_result"
        }
      ],
      "source": [
        "#Traning and Testing\n",
        "\n",
        "model.fit(x_train,y_train,epochs = 5,validation_data = (x_test,y_test))\n"
      ]
    }
  ],
  "metadata": {
    "colab": {
      "name": "Hand written digit recognition - MNIST.ipynb",
      "provenance": [],
      "version": "0.3.2"
    },
    "kernelspec": {
      "display_name": "Python 3",
      "name": "python3"
    }
  },
  "nbformat": 4,
  "nbformat_minor": 0
}
